{
  "nbformat": 4,
  "nbformat_minor": 0,
  "metadata": {
    "colab": {
      "provenance": [],
      "collapsed_sections": [],
      "authorship_tag": "ABX9TyMQ+L55kn6XpgG7uTh9XqM9",
      "include_colab_link": true
    },
    "kernelspec": {
      "name": "python3",
      "display_name": "Python 3"
    },
    "language_info": {
      "name": "python"
    }
  },
  "cells": [
    {
      "cell_type": "markdown",
      "metadata": {
        "id": "view-in-github",
        "colab_type": "text"
      },
      "source": [
        "<a href=\"https://colab.research.google.com/github/tjdghks994/softsec/blob/main/softsec_prac.ipynb\" target=\"_parent\"><img src=\"https://colab.research.google.com/assets/colab-badge.svg\" alt=\"Open In Colab\"/></a>"
      ]
    },
    {
      "cell_type": "markdown",
      "source": [
        "# Software Security Practice Class 7th\n",
        "Colab의 사용법 및 Python 프로그래밍 실습\n",
        "\n",
        "---\n",
        "## Colab이란?\n",
        "- Google Research 팀에서 개발한 온라인 Python 실행기\n",
        "\n",
        "- 대부분의 경우 무료로 이용할 수 있으며, gpu, tpu 등의 추가적인 resource가 필요한 경우 결제하여 사용할 수 있음\n",
        "\n",
        "- 기본적으로 Python notebook(.ipynb) 형식을 따르고 있으며, Cell 단위로 순차적으로 실행됨\n",
        "\n",
        "- Cell 단위로 실행 시킬 수 있기 때문에 필요에 따라 원하는 위치까지만 실행시키는 것이 가능\n",
        "\n",
        "- C, C++, JAVA 등과 같이 여러 파일에 정보를 나눠 담는 형식보다 하나의 파일에 모든 정보를 담는 형태로 구현\n",
        "\n",
        "- reference: [https://research.google.com/colaboratory/faq.html](https://research.google.com/colaboratory/faq.html)\n",
        "\n",
        "## Colab의 특징적인 기능\n",
        "- ```#@param``` 명령을 통해 변수의 값을 보다 편하게 할당 가능"
      ],
      "metadata": {
        "id": "n5iem0xRQCUM"
      }
    },
    {
      "cell_type": "code",
      "execution_count": 11,
      "metadata": {
        "colab": {
          "base_uri": "https://localhost:8080/"
        },
        "id": "SvTgEPIlhfa2",
        "outputId": "ddb7a82f-673d-43cc-d90c-bc3284134ee2"
      },
      "outputs": [
        {
          "output_type": "stream",
          "name": "stdout",
          "text": [
            "value\n",
            "1st option\n",
            "2nd option\n"
          ]
        }
      ],
      "source": [
        "#@title String fields { vertical-output: true, form-width: \"600px\" }\n",
        "#@markdown ##Input your own string\n",
        "#@markdown ---\n",
        "\n",
        "#@markdown 여기에 본인이 원하는 문자열을 입력하여 변수에 할당 가능\n",
        "text = 'value' #@param {type:\"string\"}\n",
        "\n",
        "#@markdown 이런식으로 미리 정의된 옵션 중 하나를 선택할 수도 있음\n",
        "dropdown = '1st option' #@param [\"1st option\", \"2nd option\", \"3rd option\"]\n",
        "\n",
        "#@markdown 옵션 중 하나는 선택할 수도 있고, 직접 작성할 수도 있음\n",
        "text_and_dropdown = '2nd option' #@param [\"1st option\", \"2nd option\", \"3rd option\"] {allow-input: true}\n",
        "\n",
        "print(text)\n",
        "print(dropdown)\n",
        "print(text_and_dropdown)"
      ]
    },
    {
      "cell_type": "code",
      "source": [
        "#@title Number fields { vertical-output: true, form-width: \"600px\" }\n",
        "#@markdown ##Input your own integer, float value or make slider\n",
        "#@markdown ---\n",
        "\n",
        "#@markdown integer(정수) 타입의 값을 입력 할 수 있음\n",
        "integer_input = 10 #@param {type:\"integer\"}\n",
        "#@markdown slider를 사용하여 원하는 범위 안에서 값을 선택할 수 있음\n",
        "integer_slider = 1 #@param {type:\"slider\", min:0, max:100, step:1}\n",
        "\n",
        "\n",
        "#@markdown float(실수) 타입의 값을 입력 할 수 있음\n",
        "number_input = 10.0 #@param {type:\"number\"}\n",
        "#@markdown slider를 사용하여 원하는 범위 안에서 값을 선택할 수 있음\n",
        "number_slider = 0 #@param {type:\"slider\", min:-1, max:1, step:0.1}\n",
        "\n",
        "\n",
        "print(integer_input)\n",
        "print(integer_slider)\n",
        "\n",
        "print(number_input)\n",
        "print(number_slider)"
      ],
      "metadata": {
        "colab": {
          "base_uri": "https://localhost:8080/"
        },
        "id": "T8ueIceTl5p9",
        "outputId": "032c02c8-cef4-4f03-d82b-9acb380371fe"
      },
      "execution_count": 12,
      "outputs": [
        {
          "output_type": "stream",
          "name": "stdout",
          "text": [
            "10\n",
            "1\n",
            "10.0\n",
            "0\n"
          ]
        }
      ]
    },
    {
      "cell_type": "code",
      "source": [
        "#@title Boolean fields { vertical-output: true, form-width: \"600px\" }\n",
        "#@markdown ##You can select True of Flase\n",
        "#@markdown ---\n",
        "\n",
        "#@markdown boolean 타입은 checkbox 형태로 제공\n",
        "boolean_checkbox = True #@param {type:\"boolean\"}\n",
        "#@markdown True 혹은 False를 입력하는 식으로도 구성 가능\n",
        "boolean_dropdown = True #@param [\"False\", \"True\"] {type:\"raw\"}\n",
        "\n",
        "print(boolean_checkbox)\n",
        "print(boolean_dropdown)"
      ],
      "metadata": {
        "colab": {
          "base_uri": "https://localhost:8080/"
        },
        "id": "MUPzztrgl99l",
        "outputId": "c660bcff-8946-49f5-e8d0-192700c70b21"
      },
      "execution_count": 13,
      "outputs": [
        {
          "output_type": "stream",
          "name": "stdout",
          "text": [
            "True\n",
            "True\n"
          ]
        }
      ]
    },
    {
      "cell_type": "code",
      "source": [
        "#@title Date fields { vertical-output: true, form-width: \"600px\" }\n",
        "#@markdown ##Writedown or select a date\n",
        "#@markdown ---\n",
        "\n",
        "#@markdown 년 / 월 / 일 순서로 날짜를 입력 및 달력 모양을 통해 선택 가능\n",
        "date_input = '2022-10-20' #@param {type:\"date\"}\n",
        "\n",
        "print(date_input)"
      ],
      "metadata": {
        "colab": {
          "base_uri": "https://localhost:8080/"
        },
        "id": "DEACvDkHl2Hg",
        "outputId": "9d8e8c1e-bed8-4456-e426-c6a88c7adf9b"
      },
      "execution_count": 14,
      "outputs": [
        {
          "output_type": "stream",
          "name": "stdout",
          "text": [
            "2022-10-20\n"
          ]
        }
      ]
    },
    {
      "cell_type": "code",
      "source": [
        "#@title Convert to decimal { vertical-output: true, form-width: \"600px\" }\n",
        "#@markdown ## Problem 1. 진법 변환\n",
        "\n",
        "#@markdown ---\n",
        "\n",
        "#@markdown 문제: ```base``` 진법으로 표현된 ```num``` 값을 10진법으로 변경하시오\n",
        "\n",
        "#@markdown 변수: ```num```과 ```base```는 int형 type의 변수이다\n",
        "\n",
        "#@markdown 예시1: ```num```=123, ```base```=5 일 때, ```answer```=38\n",
        "\n",
        "#@markdown 예시2: ```num```=444, ```base```=5 일 때, ```answer```=124\n",
        "\n",
        "#@markdown 예시3: ```num```=56, ```base```=8 일 때, ```answer```=46\n",
        "\n",
        "#@markdown reference: https://school.programmers.co.kr/learn/courses/4008/lessons/13168\n",
        "\n",
        "#@markdown ---\n",
        "\n",
        "def solution_decimal(num: int, base: int):\n",
        "    # 1st solution\n",
        "    answer_1st = 0\n",
        "    for ix, order in enumerate(str(num)[::-1]):\n",
        "        answer_1st += int(order) * (base ** ix)\n",
        "    \n",
        "    # 2nd solution\n",
        "    answer_2nd = sum([int(order) * (base ** ix) for ix, order in enumerate(str(num)[::-1])])\n",
        "\n",
        "    # 3rd solution\n",
        "    answer_3rd = int(str(num), base)\n",
        "\n",
        "    return answer_3rd\n",
        "\n",
        "num = 56         #@param {type: \"integer\"}\n",
        "base = 8        #@param {type: \"integer\"}\n",
        "excepted = 46    #@param {type: \"integer\"}\n",
        "\n",
        "my_answer = solution_decimal(num, base)\n",
        "correct = \"correct\" if my_answer == excepted else \"incorrect\"\n",
        "print(f'My answer is: {my_answer}, and {correct} answer')"
      ],
      "metadata": {
        "colab": {
          "base_uri": "https://localhost:8080/"
        },
        "id": "bUxOixMkoZuF",
        "outputId": "7f86f351-4073-4742-8190-4282cdeb9c69"
      },
      "execution_count": 15,
      "outputs": [
        {
          "output_type": "stream",
          "name": "stdout",
          "text": [
            "My answer is: 46, and correct answer\n"
          ]
        }
      ]
    },
    {
      "cell_type": "code",
      "source": [
        "#@title Babbling { vertical-output: true, form-width: \"600px\" }\n",
        "#@markdown ## Problem 2. 옹알이\n",
        "\n",
        "#@markdown ---\n",
        "\n",
        "#@markdown 아직 옹알이 밖에 하지 못하는 아이는 \"aya\", \"ye\", \"woo\", \"ma\" 네 가지 발음과 네 가지 발음을 조합해서 만들 수 있는 발음밖에 하지 못하고 연속해서 같은 발음을 하는 것을 어려워합니다\n",
        "\n",
        "#@markdown 변수: ```babbling```은 문자열로 구성된 배열이다\n",
        "\n",
        "#@markdown 예시1: ```babbling```=[\"aya\", \"yee\", \"u\", \"maa\"] 일 때, ```answer```=1\n",
        "\n",
        "#@markdown 예시2: ```babbling```=[\"ayaye\", \"uuu\", \"yeye\", \"yemawoo\", \"ayaayaa\", \"yayae\"] 일 때, ```answer```=2\n",
        "\n",
        "#@markdown reference: https://school.programmers.co.kr/learn/courses/30/lessons/120956\n",
        "\n",
        "#@markdown ---\n",
        "\n",
        "def solution_babbling(babbling):\n",
        "    c = 0\n",
        "    for b in babbling:\n",
        "        for w in [ \"aya\", \"ye\", \"woo\", \"ma\" ]:\n",
        "            if w * 2 not in b:\n",
        "                b = b.replace(w, '1')\n",
        "        if b.isdigit():\n",
        "            c += 1\n",
        "    return c\n",
        "\n",
        "babbling = [\"ayaye\", \"uuu\", \"yeye\", \"yemawoo\", \"ayaayaa\", \"yayae\"]         #@param {type: \"raw\"}\n",
        "excepted = 2    #@param {type: \"integer\"}\n",
        "\n",
        "my_answer = solution_babbling(babbling)\n",
        "correct = \"correct\" if my_answer == excepted else \"incorrect\"\n",
        "print(f'My answer is: {my_answer}, and {correct} answer')"
      ],
      "metadata": {
        "colab": {
          "base_uri": "https://localhost:8080/"
        },
        "id": "9m_TnmKxGH6T",
        "outputId": "6015ae2f-13c0-4db3-9cbf-1292b10bdc4d"
      },
      "execution_count": 16,
      "outputs": [
        {
          "output_type": "stream",
          "name": "stdout",
          "text": [
            "My answer is: 2, and correct answer\n"
          ]
        }
      ]
    }
  ]
}